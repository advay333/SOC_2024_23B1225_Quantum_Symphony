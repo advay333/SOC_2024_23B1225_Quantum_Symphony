{
 "cells": [
  {
   "cell_type": "markdown",
   "metadata": {},
   "source": [
    "Import necessary packages"
   ]
  },
  {
   "cell_type": "code",
   "execution_count": 1,
   "metadata": {},
   "outputs": [],
   "source": [
    "import numpy as np\n",
    "import matplotlib.pyplot as plt\n",
    "import pandas as pd"
   ]
  },
  {
   "cell_type": "markdown",
   "metadata": {},
   "source": [
    "TODO 1: Read the data from ```data.csv``` using ```pandas```"
   ]
  },
  {
   "cell_type": "code",
   "execution_count": 2,
   "metadata": {},
   "outputs": [],
   "source": [
    "# Complete TODO 1\n",
    "df=pd.read_csv('data.csv')\n",
    "# Store the column labelleed X as a numpy array named X\n",
    "X_pd=df.iloc[:,0]\n",
    "X=X_pd.to_numpy()\n",
    "# Store the column labeled y as a numpy array named y\n",
    "Y_pd=df.iloc[:,1]\n",
    "y=Y_pd.to_numpy()\n",
    "# Ensure that you reshape them properly"
   ]
  },
  {
   "cell_type": "markdown",
   "metadata": {},
   "source": [
    "TODO 2: Complete the ```normalize``` function. For a numpy array X, normalized output will be \n",
    "```(X - mean(X))/standard_devaiation(X)```\n"
   ]
  },
  {
   "cell_type": "code",
   "execution_count": 3,
   "metadata": {
    "scrolled": true
   },
   "outputs": [],
   "source": [
    "def normalize(X):\n",
    "    #Complete TODO 2\n",
    "    mean_x=np.mean(X)\n",
    "    std_x=np.std(X)\n",
    "    X=(X-mean_x)/std_x\n",
    "    return X\n",
    "X_norm = normalize(X)\n",
    "y_norm = normalize(y)\n",
    "# Initialize parameters\n",
    "theta = np.random.randn(2, 1)# We have 2 parameters (theta_0 and theta_1)"
   ]
  },
  {
   "cell_type": "markdown",
   "metadata": {},
   "source": [
    "TODO 3: Complete the function ```complete_cost``` function below. Refer to Problem statement for the cost (error) function for linear regression.\n",
    "\n",
    "Here, ```X``` : np.array of x-coordinates of points\n",
    "\n",
    "```y``` : np.array of y-coordinates of points\n",
    "\n",
    "```theta``` : np.array of parameters"
   ]
  },
  {
   "cell_type": "code",
   "execution_count": 4,
   "metadata": {},
   "outputs": [],
   "source": [
    "def compute_cost(X, y, theta):\n",
    "    m = len(y)\n",
    "    X_b = np.c_[np.ones((m, 1)), X]  # Add bias term (x0 = 1)\n",
    "    #Complete TODO 3\n",
    "    cost=0\n",
    "    for i in range(m):\n",
    "        cost=cost+(y[i]-theta[0]*X_b[i,0]-theta[1]*X_b[i,1])*(y[i]-theta[0]*X_b[i,0]-theta[1]*X_b[i,1])\n",
    "    return cost/2"
   ]
  },
  {
   "cell_type": "markdown",
   "metadata": {},
   "source": [
    "TODO 4: Implement Gradient Descent for linear regression according to algorithm given in the Problem Statement. Your only task is to update theta properly by finding the gradient correctly."
   ]
  },
  {
   "cell_type": "code",
   "execution_count": 5,
   "metadata": {},
   "outputs": [],
   "source": [
    "def gradient_descent(X, y, theta, learning_rate, iterations):\n",
    "    m = len(y)\n",
    "    X_b = np.c_[np.ones((m, 1)), X]  # Add bias term (x0 = 1)\n",
    "    cost_history = []\n",
    "    for i in range(iterations):\n",
    "        #Complete TODO 4\n",
    "        # Update theta\n",
    "        der_theta_0=0\n",
    "        der_theta_1=0\n",
    "        for j in range(m):\n",
    "            der_theta_0+=y[j]-theta[0]*X_b[j,0]-theta[1]*X_b[j,1]\n",
    "            der_theta_1+=(y[j]-theta[0]*X_b[j,0]-theta[1]*X_b[j,1])*X_b[j,1]\n",
    "        theta[0]+=learning_rate*der_theta_0\n",
    "        theta[1]+=learning_rate*der_theta_1\n",
    "        cost = compute_cost(X, y, theta)\n",
    "        cost_history.append(cost)\n",
    "    return theta, cost_history"
   ]
  },
  {
   "cell_type": "markdown",
   "metadata": {},
   "source": [
    "TODO 5: Find ```theta_optimal``` and ```cost_history``` by calling the ```gradient_descent``` function. Also, print them."
   ]
  },
  {
   "cell_type": "code",
   "execution_count": 6,
   "metadata": {},
   "outputs": [
    {
     "name": "stdout",
     "output_type": "stream",
     "text": [
      "[[1.01696429e-15]\n",
      " [8.77082403e-01]]\n",
      "[array([11.53632293]), array([11.53632293]), array([11.53632293]), array([11.53632293]), array([11.53632293]), array([11.53632293]), array([11.53632293]), array([11.53632293]), array([11.53632293]), array([11.53632293]), array([11.53632293]), array([11.53632293]), array([11.53632293]), array([11.53632293]), array([11.53632293]), array([11.53632293]), array([11.53632293]), array([11.53632293]), array([11.53632293]), array([11.53632293]), array([11.53632293]), array([11.53632293]), array([11.53632293]), array([11.53632293]), array([11.53632293]), array([11.53632293]), array([11.53632293]), array([11.53632293]), array([11.53632293]), array([11.53632293]), array([11.53632293]), array([11.53632293]), array([11.53632293]), array([11.53632293]), array([11.53632293]), array([11.53632293]), array([11.53632293]), array([11.53632293]), array([11.53632293]), array([11.53632293]), array([11.53632293]), array([11.53632293]), array([11.53632293]), array([11.53632293]), array([11.53632293]), array([11.53632293]), array([11.53632293]), array([11.53632293]), array([11.53632293]), array([11.53632293]), array([11.53632293]), array([11.53632293]), array([11.53632293]), array([11.53632293]), array([11.53632293]), array([11.53632293]), array([11.53632293]), array([11.53632293]), array([11.53632293]), array([11.53632293]), array([11.53632293]), array([11.53632293]), array([11.53632293]), array([11.53632293]), array([11.53632293]), array([11.53632293]), array([11.53632293]), array([11.53632293]), array([11.53632293]), array([11.53632293]), array([11.53632293]), array([11.53632293]), array([11.53632293]), array([11.53632293]), array([11.53632293]), array([11.53632293]), array([11.53632293]), array([11.53632293]), array([11.53632293]), array([11.53632293]), array([11.53632293]), array([11.53632293]), array([11.53632293]), array([11.53632293]), array([11.53632293]), array([11.53632293]), array([11.53632293]), array([11.53632293]), array([11.53632293]), array([11.53632293]), array([11.53632293]), array([11.53632293]), array([11.53632293]), array([11.53632293]), array([11.53632293]), array([11.53632293]), array([11.53632293]), array([11.53632293]), array([11.53632293]), array([11.53632293]), array([11.53632293]), array([11.53632293]), array([11.53632293]), array([11.53632293]), array([11.53632293]), array([11.53632293]), array([11.53632293]), array([11.53632293]), array([11.53632293]), array([11.53632293]), array([11.53632293]), array([11.53632293]), array([11.53632293]), array([11.53632293]), array([11.53632293]), array([11.53632293]), array([11.53632293]), array([11.53632293]), array([11.53632293]), array([11.53632293]), array([11.53632293]), array([11.53632293]), array([11.53632293]), array([11.53632293]), array([11.53632293]), array([11.53632293]), array([11.53632293]), array([11.53632293]), array([11.53632293]), array([11.53632293]), array([11.53632293]), array([11.53632293]), array([11.53632293]), array([11.53632293]), array([11.53632293]), array([11.53632293]), array([11.53632293]), array([11.53632293]), array([11.53632293]), array([11.53632293]), array([11.53632293]), array([11.53632293]), array([11.53632293]), array([11.53632293]), array([11.53632293]), array([11.53632293]), array([11.53632293]), array([11.53632293]), array([11.53632293]), array([11.53632293]), array([11.53632293]), array([11.53632293]), array([11.53632293]), array([11.53632293]), array([11.53632293]), array([11.53632293]), array([11.53632293]), array([11.53632293]), array([11.53632293]), array([11.53632293]), array([11.53632293]), array([11.53632293]), array([11.53632293]), array([11.53632293]), array([11.53632293]), array([11.53632293]), array([11.53632293]), array([11.53632293]), array([11.53632293]), array([11.53632293]), array([11.53632293]), array([11.53632293]), array([11.53632293]), array([11.53632293]), array([11.53632293]), array([11.53632293]), array([11.53632293]), array([11.53632293]), array([11.53632293]), array([11.53632293]), array([11.53632293]), array([11.53632293]), array([11.53632293]), array([11.53632293]), array([11.53632293]), array([11.53632293]), array([11.53632293]), array([11.53632293]), array([11.53632293]), array([11.53632293]), array([11.53632293]), array([11.53632293]), array([11.53632293]), array([11.53632293]), array([11.53632293]), array([11.53632293]), array([11.53632293]), array([11.53632293]), array([11.53632293]), array([11.53632293]), array([11.53632293]), array([11.53632293]), array([11.53632293]), array([11.53632293]), array([11.53632293]), array([11.53632293]), array([11.53632293]), array([11.53632293]), array([11.53632293]), array([11.53632293]), array([11.53632293]), array([11.53632293]), array([11.53632293]), array([11.53632293]), array([11.53632293]), array([11.53632293]), array([11.53632293]), array([11.53632293]), array([11.53632293]), array([11.53632293]), array([11.53632293]), array([11.53632293]), array([11.53632293]), array([11.53632293]), array([11.53632293]), array([11.53632293]), array([11.53632293]), array([11.53632293]), array([11.53632293]), array([11.53632293]), array([11.53632293]), array([11.53632293]), array([11.53632293]), array([11.53632293]), array([11.53632293]), array([11.53632293]), array([11.53632293]), array([11.53632293]), array([11.53632293]), array([11.53632293]), array([11.53632293]), array([11.53632293]), array([11.53632293]), array([11.53632293]), array([11.53632293]), array([11.53632293]), array([11.53632293]), array([11.53632293]), array([11.53632293]), array([11.53632293]), array([11.53632293]), array([11.53632293]), array([11.53632293]), array([11.53632293]), array([11.53632293]), array([11.53632293]), array([11.53632293]), array([11.53632293]), array([11.53632293]), array([11.53632293]), array([11.53632293]), array([11.53632293]), array([11.53632293]), array([11.53632293]), array([11.53632293]), array([11.53632293]), array([11.53632293]), array([11.53632293]), array([11.53632293]), array([11.53632293]), array([11.53632293]), array([11.53632293]), array([11.53632293]), array([11.53632293]), array([11.53632293]), array([11.53632293]), array([11.53632293]), array([11.53632293]), array([11.53632293]), array([11.53632293]), array([11.53632293]), array([11.53632293]), array([11.53632293]), array([11.53632293]), array([11.53632293]), array([11.53632293]), array([11.53632293]), array([11.53632293]), array([11.53632293]), array([11.53632293]), array([11.53632293]), array([11.53632293]), array([11.53632293]), array([11.53632293]), array([11.53632293]), array([11.53632293]), array([11.53632293]), array([11.53632293]), array([11.53632293]), array([11.53632293]), array([11.53632293]), array([11.53632293]), array([11.53632293]), array([11.53632293]), array([11.53632293]), array([11.53632293]), array([11.53632293]), array([11.53632293]), array([11.53632293]), array([11.53632293]), array([11.53632293]), array([11.53632293]), array([11.53632293]), array([11.53632293]), array([11.53632293]), array([11.53632293]), array([11.53632293]), array([11.53632293]), array([11.53632293]), array([11.53632293]), array([11.53632293]), array([11.53632293]), array([11.53632293]), array([11.53632293]), array([11.53632293]), array([11.53632293]), array([11.53632293]), array([11.53632293]), array([11.53632293]), array([11.53632293]), array([11.53632293]), array([11.53632293]), array([11.53632293]), array([11.53632293]), array([11.53632293]), array([11.53632293]), array([11.53632293]), array([11.53632293]), array([11.53632293]), array([11.53632293]), array([11.53632293]), array([11.53632293]), array([11.53632293]), array([11.53632293]), array([11.53632293]), array([11.53632293]), array([11.53632293]), array([11.53632293]), array([11.53632293]), array([11.53632293]), array([11.53632293]), array([11.53632293]), array([11.53632293]), array([11.53632293]), array([11.53632293]), array([11.53632293]), array([11.53632293]), array([11.53632293]), array([11.53632293]), array([11.53632293]), array([11.53632293]), array([11.53632293]), array([11.53632293]), array([11.53632293]), array([11.53632293]), array([11.53632293]), array([11.53632293]), array([11.53632293]), array([11.53632293]), array([11.53632293]), array([11.53632293]), array([11.53632293]), array([11.53632293]), array([11.53632293]), array([11.53632293]), array([11.53632293]), array([11.53632293]), array([11.53632293]), array([11.53632293]), array([11.53632293]), array([11.53632293]), array([11.53632293]), array([11.53632293]), array([11.53632293]), array([11.53632293]), array([11.53632293]), array([11.53632293]), array([11.53632293]), array([11.53632293]), array([11.53632293]), array([11.53632293]), array([11.53632293]), array([11.53632293]), array([11.53632293]), array([11.53632293]), array([11.53632293]), array([11.53632293]), array([11.53632293]), array([11.53632293]), array([11.53632293]), array([11.53632293]), array([11.53632293]), array([11.53632293]), array([11.53632293]), array([11.53632293]), array([11.53632293]), array([11.53632293]), array([11.53632293]), array([11.53632293]), array([11.53632293]), array([11.53632293]), array([11.53632293]), array([11.53632293]), array([11.53632293]), array([11.53632293]), array([11.53632293]), array([11.53632293]), array([11.53632293]), array([11.53632293]), array([11.53632293]), array([11.53632293]), array([11.53632293]), array([11.53632293]), array([11.53632293]), array([11.53632293]), array([11.53632293]), array([11.53632293]), array([11.53632293]), array([11.53632293]), array([11.53632293]), array([11.53632293]), array([11.53632293]), array([11.53632293]), array([11.53632293]), array([11.53632293]), array([11.53632293]), array([11.53632293]), array([11.53632293]), array([11.53632293]), array([11.53632293]), array([11.53632293]), array([11.53632293]), array([11.53632293]), array([11.53632293]), array([11.53632293]), array([11.53632293]), array([11.53632293]), array([11.53632293]), array([11.53632293]), array([11.53632293]), array([11.53632293]), array([11.53632293]), array([11.53632293]), array([11.53632293]), array([11.53632293]), array([11.53632293]), array([11.53632293]), array([11.53632293]), array([11.53632293]), array([11.53632293]), array([11.53632293]), array([11.53632293]), array([11.53632293]), array([11.53632293]), array([11.53632293]), array([11.53632293]), array([11.53632293]), array([11.53632293]), array([11.53632293]), array([11.53632293]), array([11.53632293]), array([11.53632293]), array([11.53632293]), array([11.53632293]), array([11.53632293]), array([11.53632293]), array([11.53632293]), array([11.53632293]), array([11.53632293]), array([11.53632293]), array([11.53632293]), array([11.53632293]), array([11.53632293]), array([11.53632293]), array([11.53632293]), array([11.53632293]), array([11.53632293]), array([11.53632293]), array([11.53632293]), array([11.53632293]), array([11.53632293]), array([11.53632293]), array([11.53632293]), array([11.53632293]), array([11.53632293]), array([11.53632293]), array([11.53632293]), array([11.53632293]), array([11.53632293]), array([11.53632293]), array([11.53632293]), array([11.53632293]), array([11.53632293]), array([11.53632293]), array([11.53632293]), array([11.53632293]), array([11.53632293]), array([11.53632293]), array([11.53632293]), array([11.53632293]), array([11.53632293]), array([11.53632293]), array([11.53632293]), array([11.53632293]), array([11.53632293]), array([11.53632293]), array([11.53632293]), array([11.53632293]), array([11.53632293]), array([11.53632293]), array([11.53632293]), array([11.53632293]), array([11.53632293]), array([11.53632293]), array([11.53632293]), array([11.53632293]), array([11.53632293]), array([11.53632293]), array([11.53632293]), array([11.53632293]), array([11.53632293]), array([11.53632293]), array([11.53632293]), array([11.53632293]), array([11.53632293]), array([11.53632293]), array([11.53632293]), array([11.53632293]), array([11.53632293]), array([11.53632293]), array([11.53632293]), array([11.53632293]), array([11.53632293]), array([11.53632293]), array([11.53632293]), array([11.53632293]), array([11.53632293]), array([11.53632293]), array([11.53632293]), array([11.53632293]), array([11.53632293]), array([11.53632293]), array([11.53632293]), array([11.53632293]), array([11.53632293]), array([11.53632293]), array([11.53632293]), array([11.53632293]), array([11.53632293]), array([11.53632293]), array([11.53632293]), array([11.53632293]), array([11.53632293]), array([11.53632293]), array([11.53632293]), array([11.53632293]), array([11.53632293]), array([11.53632293]), array([11.53632293]), array([11.53632293]), array([11.53632293]), array([11.53632293]), array([11.53632293]), array([11.53632293]), array([11.53632293]), array([11.53632293]), array([11.53632293]), array([11.53632293]), array([11.53632293]), array([11.53632293]), array([11.53632293]), array([11.53632293]), array([11.53632293]), array([11.53632293]), array([11.53632293]), array([11.53632293]), array([11.53632293]), array([11.53632293]), array([11.53632293]), array([11.53632293]), array([11.53632293]), array([11.53632293]), array([11.53632293]), array([11.53632293]), array([11.53632293]), array([11.53632293]), array([11.53632293]), array([11.53632293]), array([11.53632293]), array([11.53632293]), array([11.53632293]), array([11.53632293]), array([11.53632293]), array([11.53632293]), array([11.53632293]), array([11.53632293]), array([11.53632293]), array([11.53632293]), array([11.53632293]), array([11.53632293]), array([11.53632293]), array([11.53632293]), array([11.53632293]), array([11.53632293]), array([11.53632293]), array([11.53632293]), array([11.53632293]), array([11.53632293]), array([11.53632293]), array([11.53632293]), array([11.53632293]), array([11.53632293]), array([11.53632293]), array([11.53632293]), array([11.53632293]), array([11.53632293]), array([11.53632293]), array([11.53632293]), array([11.53632293]), array([11.53632293]), array([11.53632293]), array([11.53632293]), array([11.53632293]), array([11.53632293]), array([11.53632293]), array([11.53632293]), array([11.53632293]), array([11.53632293]), array([11.53632293]), array([11.53632293]), array([11.53632293]), array([11.53632293]), array([11.53632293]), array([11.53632293]), array([11.53632293]), array([11.53632293]), array([11.53632293]), array([11.53632293]), array([11.53632293]), array([11.53632293]), array([11.53632293]), array([11.53632293]), array([11.53632293]), array([11.53632293]), array([11.53632293]), array([11.53632293]), array([11.53632293]), array([11.53632293]), array([11.53632293]), array([11.53632293]), array([11.53632293]), array([11.53632293]), array([11.53632293]), array([11.53632293]), array([11.53632293]), array([11.53632293]), array([11.53632293]), array([11.53632293]), array([11.53632293]), array([11.53632293]), array([11.53632293]), array([11.53632293]), array([11.53632293]), array([11.53632293]), array([11.53632293]), array([11.53632293]), array([11.53632293]), array([11.53632293]), array([11.53632293]), array([11.53632293]), array([11.53632293]), array([11.53632293]), array([11.53632293]), array([11.53632293]), array([11.53632293]), array([11.53632293]), array([11.53632293]), array([11.53632293]), array([11.53632293]), array([11.53632293]), array([11.53632293]), array([11.53632293]), array([11.53632293]), array([11.53632293]), array([11.53632293]), array([11.53632293]), array([11.53632293]), array([11.53632293]), array([11.53632293]), array([11.53632293]), array([11.53632293]), array([11.53632293]), array([11.53632293]), array([11.53632293]), array([11.53632293]), array([11.53632293]), array([11.53632293]), array([11.53632293]), array([11.53632293]), array([11.53632293]), array([11.53632293]), array([11.53632293]), array([11.53632293]), array([11.53632293]), array([11.53632293]), array([11.53632293]), array([11.53632293]), array([11.53632293]), array([11.53632293]), array([11.53632293]), array([11.53632293]), array([11.53632293]), array([11.53632293]), array([11.53632293]), array([11.53632293]), array([11.53632293]), array([11.53632293]), array([11.53632293]), array([11.53632293]), array([11.53632293]), array([11.53632293]), array([11.53632293]), array([11.53632293]), array([11.53632293]), array([11.53632293]), array([11.53632293]), array([11.53632293]), array([11.53632293]), array([11.53632293]), array([11.53632293]), array([11.53632293]), array([11.53632293]), array([11.53632293]), array([11.53632293]), array([11.53632293]), array([11.53632293]), array([11.53632293]), array([11.53632293]), array([11.53632293]), array([11.53632293]), array([11.53632293]), array([11.53632293]), array([11.53632293]), array([11.53632293]), array([11.53632293]), array([11.53632293]), array([11.53632293]), array([11.53632293]), array([11.53632293]), array([11.53632293]), array([11.53632293]), array([11.53632293]), array([11.53632293]), array([11.53632293]), array([11.53632293]), array([11.53632293]), array([11.53632293]), array([11.53632293]), array([11.53632293]), array([11.53632293]), array([11.53632293]), array([11.53632293]), array([11.53632293]), array([11.53632293]), array([11.53632293]), array([11.53632293]), array([11.53632293]), array([11.53632293]), array([11.53632293]), array([11.53632293]), array([11.53632293]), array([11.53632293]), array([11.53632293]), array([11.53632293]), array([11.53632293]), array([11.53632293]), array([11.53632293]), array([11.53632293]), array([11.53632293]), array([11.53632293]), array([11.53632293]), array([11.53632293]), array([11.53632293]), array([11.53632293]), array([11.53632293]), array([11.53632293]), array([11.53632293]), array([11.53632293]), array([11.53632293]), array([11.53632293]), array([11.53632293]), array([11.53632293]), array([11.53632293]), array([11.53632293]), array([11.53632293]), array([11.53632293]), array([11.53632293]), array([11.53632293]), array([11.53632293]), array([11.53632293]), array([11.53632293]), array([11.53632293]), array([11.53632293]), array([11.53632293]), array([11.53632293]), array([11.53632293]), array([11.53632293]), array([11.53632293]), array([11.53632293]), array([11.53632293]), array([11.53632293]), array([11.53632293]), array([11.53632293]), array([11.53632293]), array([11.53632293]), array([11.53632293]), array([11.53632293]), array([11.53632293]), array([11.53632293]), array([11.53632293]), array([11.53632293]), array([11.53632293]), array([11.53632293]), array([11.53632293]), array([11.53632293]), array([11.53632293]), array([11.53632293]), array([11.53632293]), array([11.53632293]), array([11.53632293]), array([11.53632293]), array([11.53632293]), array([11.53632293]), array([11.53632293]), array([11.53632293]), array([11.53632293]), array([11.53632293]), array([11.53632293]), array([11.53632293]), array([11.53632293]), array([11.53632293]), array([11.53632293]), array([11.53632293]), array([11.53632293]), array([11.53632293]), array([11.53632293]), array([11.53632293]), array([11.53632293]), array([11.53632293]), array([11.53632293]), array([11.53632293]), array([11.53632293]), array([11.53632293]), array([11.53632293]), array([11.53632293]), array([11.53632293]), array([11.53632293]), array([11.53632293]), array([11.53632293]), array([11.53632293]), array([11.53632293]), array([11.53632293]), array([11.53632293]), array([11.53632293]), array([11.53632293]), array([11.53632293]), array([11.53632293]), array([11.53632293]), array([11.53632293]), array([11.53632293]), array([11.53632293]), array([11.53632293]), array([11.53632293]), array([11.53632293]), array([11.53632293]), array([11.53632293]), array([11.53632293]), array([11.53632293]), array([11.53632293]), array([11.53632293]), array([11.53632293]), array([11.53632293]), array([11.53632293]), array([11.53632293]), array([11.53632293]), array([11.53632293]), array([11.53632293]), array([11.53632293]), array([11.53632293]), array([11.53632293]), array([11.53632293]), array([11.53632293]), array([11.53632293]), array([11.53632293]), array([11.53632293]), array([11.53632293]), array([11.53632293]), array([11.53632293]), array([11.53632293]), array([11.53632293]), array([11.53632293]), array([11.53632293]), array([11.53632293]), array([11.53632293]), array([11.53632293]), array([11.53632293]), array([11.53632293]), array([11.53632293]), array([11.53632293]), array([11.53632293]), array([11.53632293]), array([11.53632293]), array([11.53632293]), array([11.53632293]), array([11.53632293]), array([11.53632293]), array([11.53632293]), array([11.53632293]), array([11.53632293]), array([11.53632293]), array([11.53632293]), array([11.53632293]), array([11.53632293]), array([11.53632293]), array([11.53632293]), array([11.53632293]), array([11.53632293]), array([11.53632293]), array([11.53632293]), array([11.53632293]), array([11.53632293]), array([11.53632293]), array([11.53632293]), array([11.53632293]), array([11.53632293]), array([11.53632293]), array([11.53632293]), array([11.53632293]), array([11.53632293]), array([11.53632293]), array([11.53632293]), array([11.53632293]), array([11.53632293]), array([11.53632293]), array([11.53632293]), array([11.53632293]), array([11.53632293]), array([11.53632293]), array([11.53632293]), array([11.53632293]), array([11.53632293]), array([11.53632293]), array([11.53632293]), array([11.53632293]), array([11.53632293]), array([11.53632293]), array([11.53632293]), array([11.53632293]), array([11.53632293]), array([11.53632293]), array([11.53632293]), array([11.53632293]), array([11.53632293]), array([11.53632293]), array([11.53632293]), array([11.53632293]), array([11.53632293]), array([11.53632293]), array([11.53632293]), array([11.53632293]), array([11.53632293]), array([11.53632293]), array([11.53632293]), array([11.53632293]), array([11.53632293]), array([11.53632293]), array([11.53632293]), array([11.53632293]), array([11.53632293]), array([11.53632293]), array([11.53632293]), array([11.53632293]), array([11.53632293]), array([11.53632293]), array([11.53632293]), array([11.53632293]), array([11.53632293]), array([11.53632293]), array([11.53632293]), array([11.53632293])]\n"
     ]
    }
   ],
   "source": [
    "learning_rate = 0.01\n",
    "iterations = 1000\n",
    "#Complete TODO 5\n",
    "theta_optimal,cost_history=gradient_descent(X_norm, y_norm, theta, learning_rate, iterations)\n",
    "print(theta_optimal)\n",
    "print(cost_history)"
   ]
  },
  {
   "cell_type": "markdown",
   "metadata": {},
   "source": [
    "The code returns a value of 0.877082 for theta1 which is consistant accross multiple attempts with different initial theta. The only peculiarity is that it does so in 1 iteration. If a learning rate of 0.001 is tried then more and reasonable number of iterations are required. The answer obtained by 1 iteration is also verified by using the normal equation as done below. "
   ]
  },
  {
   "cell_type": "code",
   "execution_count": 8,
   "metadata": {},
   "outputs": [
    {
     "name": "stdout",
     "output_type": "stream",
     "text": [
      "[9.94042511e-16 8.77082403e-01]\n"
     ]
    }
   ],
   "source": [
    "X_b_norm=np.c_[np.ones((len(y), 1)), X_norm]\n",
    "a=np.linalg.inv(np.matmul(X_b_norm.transpose(),X_b_norm))\n",
    "b=np.matmul(X_b_norm.transpose(),y_norm.transpose())\n",
    "t=np.matmul(a,b)\n",
    "print(t)"
   ]
  }
 ],
 "metadata": {
  "kernelspec": {
   "display_name": "Python 3 (ipykernel)",
   "language": "python",
   "name": "python3"
  },
  "language_info": {
   "codemirror_mode": {
    "name": "ipython",
    "version": 3
   },
   "file_extension": ".py",
   "mimetype": "text/x-python",
   "name": "python",
   "nbconvert_exporter": "python",
   "pygments_lexer": "ipython3",
   "version": "3.11.5"
  }
 },
 "nbformat": 4,
 "nbformat_minor": 2
}
