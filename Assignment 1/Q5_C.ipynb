{
  "nbformat": 4,
  "nbformat_minor": 0,
  "metadata": {
    "colab": {
      "provenance": []
    },
    "kernelspec": {
      "name": "python3",
      "display_name": "Python 3"
    },
    "language_info": {
      "name": "python"
    }
  },
  "cells": [
    {
      "cell_type": "markdown",
      "source": [
        "For Ques 3 first circuit\n"
      ],
      "metadata": {
        "id": "5wM6PuyjLoZu"
      }
    },
    {
      "cell_type": "code",
      "source": [
        "from qiskit import QuantumCircuit, QuantumRegister, ClassicalRegister\n",
        "from qiskit.primitives import Sampler\n",
        "from qiskit.visualization import plot_histogram\n"
      ],
      "metadata": {
        "id": "NB98NZuiLw-8"
      },
      "execution_count": 2,
      "outputs": []
    },
    {
      "cell_type": "code",
      "source": [
        "X = QuantumRegister(1, \"X\")\n",
        "Y = QuantumRegister(1, \"Y\")\n",
        "Z = QuantumRegister(1,\"Z\")\n",
        "A = ClassicalRegister(1, \"A\")\n",
        "B = ClassicalRegister(1, \"B\")\n",
        "C = ClassicalRegister(1, \"C\")\n",
        "\n",
        "circuit = QuantumCircuit(Z,Y, X,C, B, A)\n",
        "circuit.h(Z)\n",
        "circuit.cx(Z,Y)\n",
        "circuit.cx(Y,X)\n",
        "circuit.measure(Z,C)\n",
        "circuit.measure(Y, B)\n",
        "circuit.measure(X, A)\n",
        "\n",
        "display(circuit.draw())\n"
      ],
      "metadata": {
        "colab": {
          "base_uri": "https://localhost:8080/",
          "height": 217
        },
        "id": "x5DNK-FAL0F5",
        "outputId": "2348fc10-504a-4abd-aa71-9d172e0aa86d"
      },
      "execution_count": 4,
      "outputs": [
        {
          "output_type": "display_data",
          "data": {
            "text/plain": [
              "     ┌───┐          ┌─┐      \n",
              "  Z: ┤ H ├──■───────┤M├──────\n",
              "     └───┘┌─┴─┐     └╥┘┌─┐   \n",
              "  Y: ─────┤ X ├──■───╫─┤M├───\n",
              "          └───┘┌─┴─┐ ║ └╥┘┌─┐\n",
              "  X: ──────────┤ X ├─╫──╫─┤M├\n",
              "               └───┘ ║  ║ └╥┘\n",
              "C: 1/════════════════╩══╬══╬═\n",
              "                     0  ║  ║ \n",
              "B: 1/═══════════════════╩══╬═\n",
              "                        0  ║ \n",
              "A: 1/══════════════════════╩═\n",
              "                           0 "
            ],
            "text/html": [
              "<pre style=\"word-wrap: normal;white-space: pre;background: #fff0;line-height: 1.1;font-family: &quot;Courier New&quot;,Courier,monospace\">     ┌───┐          ┌─┐      \n",
              "  Z: ┤ H ├──■───────┤M├──────\n",
              "     └───┘┌─┴─┐     └╥┘┌─┐   \n",
              "  Y: ─────┤ X ├──■───╫─┤M├───\n",
              "          └───┘┌─┴─┐ ║ └╥┘┌─┐\n",
              "  X: ──────────┤ X ├─╫──╫─┤M├\n",
              "               └───┘ ║  ║ └╥┘\n",
              "C: 1/════════════════╩══╬══╬═\n",
              "                     0  ║  ║ \n",
              "B: 1/═══════════════════╩══╬═\n",
              "                        0  ║ \n",
              "A: 1/══════════════════════╩═\n",
              "                           0 </pre>"
            ]
          },
          "metadata": {}
        }
      ]
    },
    {
      "cell_type": "code",
      "source": [
        "results = Sampler().run(circuit).result()\n",
        "statistics = results.quasi_dists[0].binary_probabilities()\n",
        "display(plot_histogram(statistics))"
      ],
      "metadata": {
        "colab": {
          "base_uri": "https://localhost:8080/",
          "height": 446
        },
        "id": "TkZo-aycMc8h",
        "outputId": "db0d3281-a1e4-471a-aaca-7b2db930dc87"
      },
      "execution_count": 5,
      "outputs": [
        {
          "output_type": "display_data",
          "data": {
            "text/plain": [
              "<Figure size 640x480 with 1 Axes>"
            ],
            "image/png": "[encoded data removed]"
          },
          "metadata": {}
        }
      ]
    }
  ]
}